{
    "cells": [
        {
            "cell_type": "markdown",
            "metadata": {
                "collapsed": true
            },
            "source": "# ** Battle of Neighbourhoods:IBM Capstone Project**"
        },
        {
            "cell_type": "markdown",
            "metadata": {},
            "source": "## ** Introduction**"
        },
        {
            "cell_type": "markdown",
            "metadata": {},
            "source": "As part of my capstone project I decided to compare two multicultural cities in New York and Toronto in depth to find out how they compare to each other using location data from Foursquare API.\nThe aim of this project is to find the ten most popular venues in each of the neighbourhoods then culstering them for future interested parties for examples data analysts,location data managers,tourists etc."
        },
        {
            "cell_type": "markdown",
            "metadata": {},
            "source": "**Toronto**,the capital of the province of Ontario,is a major canadian city along Lake Ontario's northwestern shore.it's the most populous city in Canada with a population of 2.93 million as of 2017 while having also having the highest proportion of minority ethnic population in Canada.it's a dynamic metropolis with a core of soaring skyscrapers,all dwarfed by the iconic free standing CN Tower.Toronto is an international center of business, finance, arts, and culture, and it welcomes many immigrants annually thus attracting an inflow of talent and opportunities for innovation and expansion as well as having influence on neighborhood demographics."
        },
        {
            "cell_type": "markdown",
            "metadata": {},
            "source": "**New York**,comprises of 5 boroughs sitting where the Hudson River meets the Atlantic Ocean.It is the largest city in the United States with a long history of international immigration having a population of 8.149 million as of 2019.It's iconic sites include skyscrapers such as the Empire State building and sprawling Central Park.New York City's demographics show that it is a large and ethnically diverse metropolis,thus New York is known world wide as a cultural melting pot. While other states have had immigration surges, none have compared to the diversity and sheer number of immigrants that have made their way to the City. So these number of varies cultures combined to create a great diversity for itself."
        },
        {
            "cell_type": "markdown",
            "metadata": {},
            "source": "### **Data**"
        },
        {
            "cell_type": "markdown",
            "metadata": {},
            "source": "Inorder to accomplish the comparison between these two multicultural neighbourhoods in Toronto and New York Foursquare API will be used to gather data on the ten most popular venues in each of the neighbourhoods mentioned above.\n\nData scrapping and cleaning using python packages.Postcodes,neighbourhood and Borough data for Toronto has been taken from a Wikipedia page list of postal codes of Canada:\"https://en.wikipedia.org/wiki/List_of_postal_codes_of_Canada:_M\"\n\nThe data for New York was provided from the lab in week 3 of the course https://cf-courses-data.s3.us.cloud-object-storage.appdomain.cloud/IBMDeveloperSkillsNetwork-DS0701EN-Skillabs/newyork_data.json\n\nLongitude and latitude data for Toronto was also provided in week 3 of the course http://cocl.us/Geospatial_data\n\n"
        },
        {
            "cell_type": "code",
            "execution_count": 2,
            "metadata": {},
            "outputs": [
                {
                    "name": "stdout",
                    "output_type": "stream",
                    "text": "Collecting folium\n  Downloading folium-0.12.1-py2.py3-none-any.whl (94 kB)\n\u001b[K     |\u2588\u2588\u2588\u2588\u2588\u2588\u2588\u2588\u2588\u2588\u2588\u2588\u2588\u2588\u2588\u2588\u2588\u2588\u2588\u2588\u2588\u2588\u2588\u2588\u2588\u2588\u2588\u2588\u2588\u2588\u2588\u2588| 94 kB 6.4 MB/s  eta 0:00:01\n\u001b[?25hCollecting branca>=0.3.0\n  Downloading branca-0.4.2-py3-none-any.whl (24 kB)\nRequirement already satisfied: jinja2>=2.9 in /opt/conda/envs/Python-3.7-main/lib/python3.7/site-packages (from folium) (2.11.2)\nRequirement already satisfied: numpy in /opt/conda/envs/Python-3.7-main/lib/python3.7/site-packages (from folium) (1.18.5)\nRequirement already satisfied: requests in /opt/conda/envs/Python-3.7-main/lib/python3.7/site-packages (from folium) (2.24.0)\nRequirement already satisfied: MarkupSafe>=0.23 in /opt/conda/envs/Python-3.7-main/lib/python3.7/site-packages (from jinja2>=2.9->folium) (1.1.1)\nRequirement already satisfied: idna<3,>=2.5 in /opt/conda/envs/Python-3.7-main/lib/python3.7/site-packages (from requests->folium) (2.9)\nRequirement already satisfied: certifi>=2017.4.17 in /opt/conda/envs/Python-3.7-main/lib/python3.7/site-packages (from requests->folium) (2020.12.5)\nRequirement already satisfied: chardet<4,>=3.0.2 in /opt/conda/envs/Python-3.7-main/lib/python3.7/site-packages (from requests->folium) (3.0.4)\nRequirement already satisfied: urllib3!=1.25.0,!=1.25.1,<1.26,>=1.21.1 in /opt/conda/envs/Python-3.7-main/lib/python3.7/site-packages (from requests->folium) (1.25.9)\nInstalling collected packages: branca, folium\nSuccessfully installed branca-0.4.2 folium-0.12.1\nLibraries imported\n"
                }
            ],
            "source": "#libraries\n\nimport pandas as pd\npd.set_option('display.max_columns',None)\npd.set_option('display.max_rows',None)\n\nimport numpy as np\n\nimport json\n\nfrom geopy.geocoders import Nominatim\n\nimport requests\nfrom pandas.io.json import json_normalize\n\nimport matplotlib.cm as cm\n\nimport matplotlib.colors as colors\n\nfrom sklearn.cluster import KMeans\n\n!pip install folium\n\nprint(\"Libraries imported\")"
        }
    ],
    "metadata": {
        "kernelspec": {
            "display_name": "Python 3.7",
            "language": "python",
            "name": "python3"
        },
        "language_info": {
            "codemirror_mode": {
                "name": "ipython",
                "version": 3
            },
            "file_extension": ".py",
            "mimetype": "text/x-python",
            "name": "python",
            "nbconvert_exporter": "python",
            "pygments_lexer": "ipython3",
            "version": "3.7.9"
        }
    },
    "nbformat": 4,
    "nbformat_minor": 1
}